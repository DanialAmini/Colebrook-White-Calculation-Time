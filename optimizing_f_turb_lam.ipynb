{
 "cells": [
  {
   "cell_type": "code",
   "execution_count": 2,
   "metadata": {},
   "outputs": [],
   "source": [
    "import numpy as np\n",
    "from numba import jit, njit, vectorize, cfunc\n",
    "from timeit import default_timer as timer"
   ]
  },
  {
   "cell_type": "code",
   "execution_count": 2,
   "metadata": {},
   "outputs": [
    {
     "data": {
      "text/plain": [
       "1"
      ]
     },
     "execution_count": 2,
     "metadata": {},
     "output_type": "execute_result"
    }
   ],
   "source": [
    "1"
   ]
  },
  {
   "cell_type": "code",
   "execution_count": 3,
   "metadata": {},
   "outputs": [
    {
     "data": {
      "text/plain": [
       "array([120027.16267111,   3729.48906014, 124198.45916958, ...,\n",
       "         1225.35103377,    985.52416782,    354.43513416])"
      ]
     },
     "execution_count": 3,
     "metadata": {},
     "output_type": "execute_result"
    }
   ],
   "source": [
    "name_=['example4','example5','bin','rome']\n",
    "name_n=3\n",
    "Re = np.genfromtxt(name_[name_n]+'\\\\Re.csv', delimiter=',')\n",
    "epsD = np.genfromtxt(name_[name_n]+'\\\\epsD.csv', delimiter=',')\n",
    "Re"
   ]
  },
  {
   "cell_type": "code",
   "execution_count": null,
   "metadata": {},
   "outputs": [],
   "source": []
  },
  {
   "cell_type": "code",
   "execution_count": 4,
   "metadata": {},
   "outputs": [
    {
     "name": "stdout",
     "output_type": "stream",
     "text": [
      "fraction of laminar pipes 0.2709246051961284\n",
      "fraction of transient pipes 0.11107361181864493\n",
      "fraction of turbulent pipes 0.6180017829852267\n"
     ]
    }
   ],
   "source": [
    "Np=len(Re)\n",
    "\n",
    "Re_lam=np.where(Re<=2000,1,0)\n",
    "Re_turb=np.where(Re>=4000,1,0)\n",
    "Re_trans=np.ones(Np)-Re_lam-Re_turb\n",
    "\n",
    "print('fraction of laminar pipes',np.sum(Re_lam)/Np)\n",
    "print('fraction of transient pipes',np.sum(Re_trans)/Np)\n",
    "print('fraction of turbulent pipes',np.sum(Re_turb)/Np)"
   ]
  },
  {
   "cell_type": "code",
   "execution_count": null,
   "metadata": {},
   "outputs": [],
   "source": []
  },
  {
   "cell_type": "code",
   "execution_count": null,
   "metadata": {},
   "outputs": [],
   "source": []
  },
  {
   "cell_type": "code",
   "execution_count": 44,
   "metadata": {},
   "outputs": [],
   "source": [
    "#####################\n",
    "# friction functions#\n",
    "#####################\n",
    "\n",
    "@njit(parallel=True)\n",
    "def f_swamee(epsD,Re):\n",
    "    y1=5.74/np.power(Re,0.9)\n",
    "    y2=epsD/3.7+y1\n",
    "    c1=-2/np.log(10)\n",
    "    y3=c1*np.log(y2)\n",
    "    f=1/(y3*y3)\n",
    "\n",
    "    y3=c1*np.log(y2)\n",
    "    fp=(2*0.9*c1)*y1*f/(y2*y3*Re)\n",
    "    \n",
    "    return [f,fp]\n",
    "\n",
    "@njit(parallel=True)\n",
    "def f_dunlop(epsD,Re):\n",
    "    aa=-1.5634601348517065795\n",
    "    #aa=-2*0.9*2/np.log(10)\n",
    "    ab=0.00328895476345399058690\n",
    "    #ab=5.74/np.power(4000,0.9)\n",
    "    c2=-2/np.log(10)\n",
    "    #c2=-0.8685889638065035\n",
    "    \n",
    "    ac=aa*ab\n",
    "    \n",
    "    y2=epsD/3.7+ab\n",
    "    y3=c2*np.log(y2)\n",
    "    \n",
    "    fa=1/(y3*y3)\n",
    "    fb=(2+ac/(y2*y3))*fa\n",
    "    \n",
    "    x1=7*fa-fb\n",
    "    x2=0.128-17*fa+2.5*fb\n",
    "    x3=-0.128+13*fa-(fb+fb)\n",
    "    x4=0.032-3*fa+0.5*fb\n",
    "    \n",
    "    R=Re/2000\n",
    "      \n",
    "    f=x1+R*(x2+R*(x3+R*x4))\n",
    "    fp=x2+R*(2*x3+3*R*x4)\n",
    "    fp=fp/2000\n",
    "    \n",
    "    return [f,fp]\n",
    "\n",
    "@njit(parallel=True)\n",
    "def f_lam(epsD,Re):\n",
    "    return [64/Re ,-64/(Re*Re)]\n",
    "\n",
    "@njit(parallel=True)\n",
    "def f_tot(epsD_vec,Re_vec):\n",
    "    N=len(Re_vec)\n",
    "    f_vec=np.zeros(N)\n",
    "    fp_vec=np.zeros(N)\n",
    "    for i in range(N):\n",
    "        Re=Re_vec[i]\n",
    "        epsD=epsD_vec[i]\n",
    "        if Re<=2000:\n",
    "            #############\n",
    "            #laminar flow\n",
    "            f=64/Re \n",
    "            fp=-64/(Re*Re)\n",
    "        elif Re>=4000:\n",
    "            #################\n",
    "            ###turbulent flow\n",
    "            #swamee jain#####\n",
    "            y1=5.74/np.power(Re,0.9)\n",
    "            y2=epsD/3.7+y1\n",
    "            c1=-2/np.log(10)\n",
    "            y3=c1*np.log(y2)\n",
    "            f=1/(y3*y3)\n",
    "\n",
    "            y3=c1*np.log(y2)\n",
    "            fp=(2*0.9*c1)*y1*f/(y2*y3*Re)\n",
    "        else:\n",
    "            ######################\n",
    "            # transition flow####\n",
    "            #dunlop interpolation\n",
    "            ######################\n",
    "            aa=-1.5634601348517065795\n",
    "            #aa=-2*0.9*2/np.log(10)\n",
    "            ab=0.00328895476345399058690\n",
    "            #ab=5.74/np.power(4000,0.9)\n",
    "            c2=-2/np.log(10)\n",
    "            #c2=-0.8685889638065035\n",
    "\n",
    "            ac=aa*ab\n",
    "\n",
    "            y2=epsD/3.7+ab\n",
    "            y3=c2*np.log(y2)\n",
    "\n",
    "            fa=1/(y3*y3)\n",
    "            fb=(2+ac/(y2*y3))*fa\n",
    "\n",
    "            x1=7*fa-fb\n",
    "            x2=0.128-17*fa+2.5*fb\n",
    "            x3=-0.128+13*fa-(fb+fb)\n",
    "            x4=0.032-3*fa+0.5*fb\n",
    "\n",
    "            R=Re/2000\n",
    "\n",
    "            f=x1+R*(x2+R*(x3+R*x4))\n",
    "            fp=x2+R*(2*x3+3*R*x4)\n",
    "            fp=fp/2000\n",
    "        f_vec[i]=f\n",
    "        fp_vec[i]=fp\n",
    "    return [f_vec,fp_vec]\n"
   ]
  },
  {
   "cell_type": "code",
   "execution_count": 45,
   "metadata": {},
   "outputs": [
    {
     "name": "stdout",
     "output_type": "stream",
     "text": [
      "initialize variables, time= 0.09249620000002778 s\n"
     ]
    }
   ],
   "source": [
    "start = timer()\n",
    "oo=np.ones(len(Re))\n",
    "\n",
    "f=np.zeros(Np)\n",
    "fp=np.zeros(Np)\n",
    "\n",
    "Re_turb=np.zeros(Np)\n",
    "Re_trans=np.zeros(Np)\n",
    "Re_lam=np.zeros(Np)\n",
    "\n",
    "a=np.zeros((Np,2))\n",
    "a1=np.zeros((Np,2))\n",
    "a2=np.zeros((Np,2))\n",
    "a3=np.zeros((Np,2))\n",
    "\n",
    "print('initialize variables, time=',timer() - start,'s')"
   ]
  },
  {
   "cell_type": "code",
   "execution_count": 46,
   "metadata": {},
   "outputs": [
    {
     "name": "stdout",
     "output_type": "stream",
     "text": [
      "Calculate f & fp, time= 4.941595199999938 s\n",
      "1.05 s ± 60.6 ms per loop (mean ± std. dev. of 7 runs, 1 loop each)\n"
     ]
    }
   ],
   "source": [
    "start = timer()\n",
    "\n",
    "Re_turb=np.maximum(Re,4000)\n",
    "Re_trans=np.minimum(np.maximum(Re,2000),4000)\n",
    "Re_lam=np.minimum(Re,2000)\n",
    "\n",
    "\n",
    "\n",
    "a_turb=1*(Re>=4000)\n",
    "a_trans=(Re<4000)*(Re>2000)*1\n",
    "a_lam=1*(Re<=2000)\n",
    "\n",
    "\n",
    "\n",
    "\n",
    "a1=f_swamee(epsD,Re)\n",
    "a2=f_dunlop(epsD,Re)\n",
    "a3=f_lam(epsD,Re)\n",
    "\n",
    "a=a_turb*a1+a_trans*a2+a_lam*a3\n",
    "\n",
    "a=a_turb*f_swamee(epsD,Re)+a_trans*f_dunlop(epsD,Re)+a_lam*f_lam(epsD,Re)\n",
    "\n",
    "\n",
    "f=a[0]\n",
    "fp=a[1]\n",
    "print('Calculate f & fp, time=',timer() - start,'s')\n",
    "\n",
    "%timeit a=np.where(Re>=4000,1,0)*f_swamee(epsD,Re)+np.where(abs(Re-3000)<1000,1,0)*f_dunlop(epsD,Re)+np.where(Re<=2000,1,0)*f_lam(epsD,Re)"
   ]
  },
  {
   "cell_type": "code",
   "execution_count": null,
   "metadata": {},
   "outputs": [],
   "source": []
  },
  {
   "cell_type": "code",
   "execution_count": 47,
   "metadata": {},
   "outputs": [
    {
     "name": "stdout",
     "output_type": "stream",
     "text": [
      "Calculate f & fp, time= 0.7687401000000591 s\n",
      "742 ms ± 5.02 ms per loop (mean ± std. dev. of 7 runs, 1 loop each)\n"
     ]
    }
   ],
   "source": [
    "\n",
    "a=f_tot(epsD,Re)\n",
    "\n",
    "start = timer()\n",
    "a=f_tot(epsD,Re)\n",
    "f=a[0]\n",
    "fp=a[1]\n",
    "print('Calculate f & fp, time=',timer() - start,'s')\n",
    "%timeit f_tot(epsD,Re)"
   ]
  },
  {
   "cell_type": "code",
   "execution_count": null,
   "metadata": {},
   "outputs": [],
   "source": []
  },
  {
   "cell_type": "code",
   "execution_count": 48,
   "metadata": {},
   "outputs": [],
   "source": [
    "Np=10000000\n",
    "Re=100*np.power(1e8/100,np.random.rand(Np))\n",
    "epsD=1e-6*np.power(0.05/1e-6,np.random.rand(Np))"
   ]
  },
  {
   "cell_type": "code",
   "execution_count": null,
   "metadata": {},
   "outputs": [],
   "source": []
  },
  {
   "cell_type": "code",
   "execution_count": 49,
   "metadata": {},
   "outputs": [
    {
     "name": "stdout",
     "output_type": "stream",
     "text": [
      "752 ms ± 8.44 ms per loop (mean ± std. dev. of 7 runs, 1 loop each)\n",
      "1.06 s ± 39.8 ms per loop (mean ± std. dev. of 7 runs, 1 loop each)\n"
     ]
    }
   ],
   "source": [
    "%timeit f_tot(epsD,Re)\n",
    "%timeit np.where(Re>=4000,1,0)*f_swamee(epsD,Re)+np.where(abs(Re-3000)<1000,1,0)*f_dunlop(epsD,Re)+np.where(Re<=2000,1,0)*f_lam(epsD,Re)"
   ]
  },
  {
   "cell_type": "code",
   "execution_count": 55,
   "metadata": {},
   "outputs": [
    {
     "name": "stdout",
     "output_type": "stream",
     "text": [
      "0.7280911000000287\n",
      "1.0134945999999445\n"
     ]
    }
   ],
   "source": [
    "start = timer()\n",
    "a=f_tot(epsD,Re)\n",
    "print(timer() - start)\n",
    "\n",
    "start = timer()\n",
    "a1=f_swamee(epsD,Re)\n",
    "a2=f_dunlop(epsD,Re)\n",
    "a3=f_lam(epsD,Re)\n",
    "a10=np.where(Re>=4000,1,0)\n",
    "a20=np.where(abs(Re-3000)<1000,1,0)\n",
    "a30=np.where(Re<=2000,1,0)\n",
    "b=a1*a10+a2*a20+a3*a30\n",
    "print(timer() - start)\n",
    "\n"
   ]
  },
  {
   "cell_type": "code",
   "execution_count": 54,
   "metadata": {},
   "outputs": [
    {
     "data": {
      "text/plain": [
       "array([[0., 0., 0., ..., 0., 0., 0.],\n",
       "       [0., 0., 0., ..., 0., 0., 0.]])"
      ]
     },
     "execution_count": 54,
     "metadata": {},
     "output_type": "execute_result"
    }
   ],
   "source": [
    "a-b\n"
   ]
  },
  {
   "cell_type": "code",
   "execution_count": 2,
   "metadata": {},
   "outputs": [],
   "source": []
  },
  {
   "cell_type": "code",
   "execution_count": 4,
   "metadata": {},
   "outputs": [
    {
     "name": "stdout",
     "output_type": "stream",
     "text": [
      "183 ms ± 2.68 ms per loop (mean ± std. dev. of 7 runs, 10 loops each)\n"
     ]
    }
   ],
   "source": [
    "\n"
   ]
  },
  {
   "cell_type": "code",
   "execution_count": 5,
   "metadata": {},
   "outputs": [],
   "source": [
    "import numpy as np\n",
    "from numba import jit, njit, vectorize, cfunc"
   ]
  },
  {
   "cell_type": "code",
   "execution_count": 6,
   "metadata": {},
   "outputs": [],
   "source": [
    "@njit(parallel=True)\n",
    "def f(x_vec):\n",
    "    N=len(x_vec)\n",
    "    y_vec=np.zeros(N)\n",
    "    for i in range(N):\n",
    "        x=x_vec[i]\n",
    "        if x<=2000:\n",
    "            y=64/x\n",
    "        elif x>=4000:\n",
    "            y=np.log(x)\n",
    "        else:\n",
    "            y=np.log(1.2*x)\n",
    "        y_vec[i]=y\n",
    "    return y_vec"
   ]
  },
  {
   "cell_type": "code",
   "execution_count": 7,
   "metadata": {},
   "outputs": [
    {
     "name": "stdout",
     "output_type": "stream",
     "text": [
      "183 ms ± 3.59 ms per loop (mean ± std. dev. of 7 runs, 1 loop each)\n"
     ]
    }
   ],
   "source": [
    "Np=10000000\n",
    "x_vec=100*np.power(1e8/100,np.random.rand(Np))\n",
    "%timeit f(x_vec)  #0.298 seconds"
   ]
  },
  {
   "cell_type": "code",
   "execution_count": null,
   "metadata": {},
   "outputs": [],
   "source": []
  }
 ],
 "metadata": {
  "kernelspec": {
   "display_name": "Python 3",
   "language": "python",
   "name": "python3"
  },
  "language_info": {
   "codemirror_mode": {
    "name": "ipython",
    "version": 3
   },
   "file_extension": ".py",
   "mimetype": "text/x-python",
   "name": "python",
   "nbconvert_exporter": "python",
   "pygments_lexer": "ipython3",
   "version": "3.8.5"
  }
 },
 "nbformat": 4,
 "nbformat_minor": 4
}
